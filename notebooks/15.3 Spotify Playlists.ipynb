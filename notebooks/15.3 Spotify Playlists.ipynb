{
 "cells": [
  {
   "cell_type": "markdown",
   "metadata": {},
   "source": [
    "# Fetching Spotify Playlists"
   ]
  },
  {
   "cell_type": "code",
   "execution_count": 1,
   "metadata": {},
   "outputs": [],
   "source": [
    "import spotipy\n",
    "from spotipy import util\n",
    "from spotipy.client import SpotifyException\n",
    "from collections import Counter\n",
    "from gensim.utils import tokenize\n",
    "import time\n",
    "from tqdm.notebook import tqdm\n",
    "import json\n",
    "import os\n",
    "import sqlite3"
   ]
  },
  {
   "cell_type": "markdown",
   "metadata": {},
   "source": [
    "## Connect to the Spotify API"
   ]
  },
  {
   "cell_type": "code",
   "execution_count": 2,
   "metadata": {},
   "outputs": [],
   "source": [
    "CLIENT_ID = '39c713d6bf4647dba4343ce90baa3413'\n",
    "CLIENT_SECRET = 'c0a064baba7d4e888966571e3a9d4b9d'\n",
    "USER_ID = '22molgh77xg6wc4mdb4vle7ay'\n",
    "URI = 'http://127.0.0.1:8889/callback'"
   ]
  },
  {
   "cell_type": "code",
   "execution_count": 3,
   "metadata": {},
   "outputs": [],
   "source": [
    "def get_spotify_token(username, client_id, client_secret, redirect_uri):\n",
    "    try:\n",
    "        token = util.prompt_for_user_token(\n",
    "            username=username,\n",
    "            scope='user-library-read',\n",
    "            client_id=client_id,\n",
    "            client_secret=client_secret,\n",
    "            redirect_uri=redirect_uri,\n",
    "        )\n",
    "    except:\n",
    "        os.remove(f'.cache-{username}')\n",
    "        token = util.prompt_for_user_token(\n",
    "            username=username,\n",
    "            scope='user-library-read',\n",
    "            client_id=client_id,\n",
    "            client_secret=client_secret,\n",
    "            redirect_uri=redirect_uri,\n",
    "        )\n",
    "        \n",
    "    return token"
   ]
  },
  {
   "cell_type": "code",
   "execution_count": 4,
   "metadata": {},
   "outputs": [],
   "source": [
    "spotify_token = get_spotify_token(USER_ID, CLIENT_ID, CLIENT_SECRET, URI)\n",
    "session = spotipy.Spotify(auth=spotify_token)"
   ]
  },
  {
   "cell_type": "markdown",
   "metadata": {},
   "source": [
    "## Fetch playlists by common words"
   ]
  },
  {
   "cell_type": "code",
   "execution_count": 5,
   "metadata": {},
   "outputs": [],
   "source": [
    "def find_playlists(session, w, max_count=5000):\n",
    "    try:\n",
    "        res = session.search(w, limit=50, type='playlist')\n",
    "        while res:\n",
    "            for playlist in res['playlists']['items']:\n",
    "                yield playlist\n",
    "                max_count -= 1\n",
    "                if max_count == 0:\n",
    "                    return\n",
    "            tries = 3\n",
    "            while tries > 0:\n",
    "                try:\n",
    "                    res = session.next(res['playlists'])\n",
    "                    tries = 0\n",
    "                except SpotifyException as e:\n",
    "                    tries -= 1\n",
    "                    time.sleep(0.2)\n",
    "                    if tries == 0:\n",
    "                        raise\n",
    "    except SpotifyException as e:\n",
    "        status = e.http_status\n",
    "        if status == 404:\n",
    "            return\n",
    "        raise"
   ]
  },
  {
   "cell_type": "code",
   "execution_count": 6,
   "metadata": {},
   "outputs": [
    {
     "data": {
      "text/plain": [
       "{'collaborative': False,\n",
       " 'description': '',\n",
       " 'external_urls': {'spotify': 'https://open.spotify.com/playlist/4hBOn8ZGSnvOPjS4IATrWY'},\n",
       " 'href': 'https://api.spotify.com/v1/playlists/4hBOn8ZGSnvOPjS4IATrWY',\n",
       " 'id': '4hBOn8ZGSnvOPjS4IATrWY',\n",
       " 'images': [{'height': 640,\n",
       "   'url': 'https://mosaic.scdn.co/640/ab67616d0000b27365bd6926749cb73b572e4e63ab67616d0000b2736fd1d4267dd3ccb7f8b2de66ab67616d0000b2738fa61ea1950383f2927999a4ab67616d0000b273b1c5b432c7b0ec91e1017353',\n",
       "   'width': 640},\n",
       "  {'height': 300,\n",
       "   'url': 'https://mosaic.scdn.co/300/ab67616d0000b27365bd6926749cb73b572e4e63ab67616d0000b2736fd1d4267dd3ccb7f8b2de66ab67616d0000b2738fa61ea1950383f2927999a4ab67616d0000b273b1c5b432c7b0ec91e1017353',\n",
       "   'width': 300},\n",
       "  {'height': 60,\n",
       "   'url': 'https://mosaic.scdn.co/60/ab67616d0000b27365bd6926749cb73b572e4e63ab67616d0000b2736fd1d4267dd3ccb7f8b2de66ab67616d0000b2738fa61ea1950383f2927999a4ab67616d0000b273b1c5b432c7b0ec91e1017353',\n",
       "   'width': 60}],\n",
       " 'name': 'Kygo, FlicFlac, De Hofnar (Summer Deep House Mix)',\n",
       " 'owner': {'display_name': 'Kirk Chonis',\n",
       "  'external_urls': {'spotify': 'https://open.spotify.com/user/1237908605'},\n",
       "  'href': 'https://api.spotify.com/v1/users/1237908605',\n",
       "  'id': '1237908605',\n",
       "  'type': 'user',\n",
       "  'uri': 'spotify:user:1237908605'},\n",
       " 'primary_color': None,\n",
       " 'public': None,\n",
       " 'snapshot_id': 'MyxhMDZkN2Y2YTc1YTMwMDA3MDlkMGQ5ZTVmN2RlOTRiMTZkNDc0ZGYw',\n",
       " 'tracks': {'href': 'https://api.spotify.com/v1/playlists/4hBOn8ZGSnvOPjS4IATrWY/tracks',\n",
       "  'total': 116},\n",
       " 'type': 'playlist',\n",
       " 'uri': 'spotify:playlist:4hBOn8ZGSnvOPjS4IATrWY'}"
      ]
     },
     "execution_count": 6,
     "metadata": {},
     "output_type": "execute_result"
    }
   ],
   "source": [
    "next(find_playlists(session, 'summer'))"
   ]
  },
  {
   "cell_type": "code",
   "execution_count": 7,
   "metadata": {},
   "outputs": [],
   "source": [
    "word_counts = Counter({'a': 1})\n",
    "playlists = {}\n",
    "words_seen = set()\n",
    "playlists = {}\n",
    "count = 0\n",
    "dupes = 0"
   ]
  },
  {
   "cell_type": "code",
   "execution_count": 8,
   "metadata": {},
   "outputs": [],
   "source": [
    "MAX_NUM_PLAYLISTS = int(2.5e4)"
   ]
  },
  {
   "cell_type": "code",
   "execution_count": 9,
   "metadata": {},
   "outputs": [
    {
     "name": "stdout",
     "output_type": "stream",
     "text": [
      "CPU times: user 0 ns, sys: 0 ns, total: 0 ns\n",
      "Wall time: 7.87 µs\n"
     ]
    },
    {
     "data": {
      "application/vnd.jupyter.widget-view+json": {
       "model_id": "c125067389a14949abd2127243b1a623",
       "version_major": 2,
       "version_minor": 0
      },
      "text/plain": [
       "HBox(children=(FloatProgress(value=0.0, max=25000.0), HTML(value='')))"
      ]
     },
     "metadata": {},
     "output_type": "display_data"
    },
    {
     "name": "stdout",
     "output_type": "stream",
     "text": [
      "word> a\n",
      "word> is\n",
      "word> this\n",
      "word> y\n",
      "word> and\n",
      "word> en\n",
      "word> s\n",
      "word> songs\n",
      "word> the\n",
      "word> of\n",
      "word> best\n",
      "word> hits\n",
      "word> music\n",
      "word> top\n",
      "word> playlist\n",
      "word> pop\n",
      "word> rock\n",
      "word> de\n",
      "word> e\n",
      "word> soundtrack\n",
      "\n"
     ]
    }
   ],
   "source": [
    "%%time\n",
    "\n",
    "with tqdm(total=MAX_NUM_PLAYLISTS) as pbar:\n",
    "    num_playlists = len(playlists)\n",
    "    while num_playlists < MAX_NUM_PLAYLISTS:\n",
    "        for word, _ in word_counts.most_common():\n",
    "            if not word in words_seen:\n",
    "                words_seen.add(word)\n",
    "                print('word>', word)\n",
    "                for playlist in find_playlists(session, word):\n",
    "                    if playlist['id'] in playlists:\n",
    "                        dupes += 1\n",
    "                    elif playlist['name'] and playlist['owner']:\n",
    "                        playlists[playlist['id']] = {\n",
    "                          'owner': playlist['owner']['id'],\n",
    "                          'name': playlist['name'],\n",
    "                          'id': playlist['id'],\n",
    "                        }\n",
    "                        num_playlists += 1\n",
    "                        if num_playlists > MAX_NUM_PLAYLISTS:\n",
    "                            pbar.total = num_playlists\n",
    "                            pbar.refresh()\n",
    "                        pbar.update(1)\n",
    "                        for token in tokenize(playlist['name'], lowercase=True):\n",
    "                            word_counts[token] += 1\n",
    "                break"
   ]
  },
  {
   "cell_type": "markdown",
   "metadata": {},
   "source": [
    "## Fetch and save tracks by playlist"
   ]
  },
  {
   "cell_type": "code",
   "execution_count": 10,
   "metadata": {},
   "outputs": [],
   "source": [
    "def track_yielder(session, playlist):\n",
    "    res = session.user_playlist_tracks(playlist['owner'], playlist['id'],\n",
    "              fields='items(track(id, name, artists(name, id), duration_ms)),next')\n",
    "    while res:\n",
    "        for track in res['items']:\n",
    "            if track['track']:\n",
    "                yield track['track']\n",
    "        tries = 3\n",
    "        while tries > 0:\n",
    "            try:\n",
    "                res = session.next(res)\n",
    "                if not res or  not res.get('items'):\n",
    "                    return\n",
    "                tries = 0\n",
    "            except SpotifyException as e:\n",
    "                if 400 <= e.http_status <= 499:\n",
    "                    return\n",
    "                tries -= 1\n",
    "                time.sleep(1)\n",
    "                if tries == 0:\n",
    "                    raise e"
   ]
  },
  {
   "cell_type": "code",
   "execution_count": 11,
   "metadata": {},
   "outputs": [],
   "source": [
    "# playlists['3ZL3B9QN8N5uSTc7xw0LP7']['name']"
   ]
  },
  {
   "cell_type": "code",
   "execution_count": null,
   "metadata": {},
   "outputs": [],
   "source": [
    "SONGS_DB_PATH = 'data/songs.db'\n",
    "PLAYLISTS_PATH = 'data/playlists.ndjson'\n",
    "SONG_IDS_PATH = 'data/songs_ids.txt'"
   ]
  },
  {
   "cell_type": "code",
   "execution_count": 13,
   "metadata": {},
   "outputs": [
    {
     "data": {
      "application/vnd.jupyter.widget-view+json": {
       "model_id": "c605c11aa0a54a25946dfa25c93f493e",
       "version_major": 2,
       "version_minor": 0
      },
      "text/plain": [
       "HBox(children=(FloatProgress(value=0.0, max=25859.0), HTML(value='')))"
      ]
     },
     "metadata": {},
     "output_type": "display_data"
    },
    {
     "name": "stdout",
     "output_type": "stream",
     "text": [
      "retrying ...1secs\n",
      "http status: 401, code:-1 - https://api.spotify.com/v1/users/sthiesenhusen/playlists/3OMVLKaUnIPF5ieWRhE0gV/tracks?limit=100&offset=0&fields=items%28track%28id%2C+name%2C+artists%28name%2C+id%29%2C+duration_ms%29%29%2Cnext:\n",
      " The access token expired\n",
      "http status: 401, code:-1 - https://api.spotify.com/v1/users/veuk23tdrdsul8axmugb6zlh0/playlists/1DlhV7GRg3YSpw8gWzFfke/tracks?limit=100&offset=0&fields=items%28track%28id%2C+name%2C+artists%28name%2C+id%29%2C+duration_ms%29%29%2Cnext:\n",
      " The access token expired\n",
      "http status: 401, code:-1 - https://api.spotify.com/v1/users/gani5k9nl6jc4r65fkurpr52n/playlists/6zlC0yNxedMUUZ8dzZ4yMn/tracks?limit=100&offset=0&fields=items%28track%28id%2C+name%2C+artists%28name%2C+id%29%2C+duration_ms%29%29%2Cnext:\n",
      " The access token expired\n",
      "http status: 401, code:-1 - https://api.spotify.com/v1/users/1110837082/playlists/00PpvaeG1xXISODkgPFkee/tracks?limit=100&offset=0&fields=items%28track%28id%2C+name%2C+artists%28name%2C+id%29%2C+duration_ms%29%29%2Cnext:\n",
      " The access token expired\n",
      "http status: 401, code:-1 - https://api.spotify.com/v1/users/12158438695/playlists/3DRCSQsmVUGpFEygaysvOU/tracks?limit=100&offset=0&fields=items%28track%28id%2C+name%2C+artists%28name%2C+id%29%2C+duration_ms%29%29%2Cnext:\n",
      " The access token expired\n",
      "http status: 401, code:-1 - https://api.spotify.com/v1/users/124316020/playlists/3NGlAiAs8FeHjENFOWrCCI/tracks?limit=100&offset=0&fields=items%28track%28id%2C+name%2C+artists%28name%2C+id%29%2C+duration_ms%29%29%2Cnext:\n",
      " The access token expired\n",
      "http status: 401, code:-1 - https://api.spotify.com/v1/users/willle1993/playlists/7HkWIKOu7hbjKrjcnEt7Ek/tracks?limit=100&offset=0&fields=items%28track%28id%2C+name%2C+artists%28name%2C+id%29%2C+duration_ms%29%29%2Cnext:\n",
      " The access token expired\n",
      "http status: 401, code:-1 - https://api.spotify.com/v1/users/audreyho72/playlists/5yaDsdSLrEol4LhLRNveKh/tracks?limit=100&offset=0&fields=items%28track%28id%2C+name%2C+artists%28name%2C+id%29%2C+duration_ms%29%29%2Cnext:\n",
      " The access token expired\n",
      "http status: 400, code:-1 - https://api.spotify.com/v1/users/fireninja?limit=100&offset=0&fields=items%28track%28id%2C+name%2C+artists%28name%2C+id%29%2C+duration_ms%29%29%2Cnext#123/playlists/6CdV7dNhlvaV2Pb8R2L2cP/tracks:\n",
      " One or more requested fields are not available\n",
      "http status: 400, code:-1 - https://api.spotify.com/v1/users/adminpl?limit=100&offset=0&fields=items%28track%28id%2C+name%2C+artists%28name%2C+id%29%2C+duration_ms%29%29%2Cnext#1/playlists/6nrMDYTWNhlooAsNaeSP2Y/tracks:\n",
      " One or more requested fields are not available\n",
      "HTTPSConnectionPool(host='api.spotify.com', port=443): Max retries exceeded with url: /v1/users/tn4z0nqb7raaw81y3mndhvxbs/playlists/3NgEpi9UV7SzZtnFAmwswX/tracks?limit=100&offset=0&fields=items%28track%28id%2C+name%2C+artists%28name%2C+id%29%2C+duration_ms%29%29%2Cnext (Caused by NewConnectionError('<urllib3.connection.HTTPSConnection object at 0x7fb8936f7a90>: Failed to establish a new connection: [Errno 101] Network is unreachable',))\n",
      "retrying ...1secs\n",
      "http status: 401, code:-1 - https://api.spotify.com/v1/users/ggujxl7kcel0lmexxatyrbvvy/playlists/1aOkw7DKb4G70kasDwPbQN/tracks?limit=100&offset=0&fields=items%28track%28id%2C+name%2C+artists%28name%2C+id%29%2C+duration_ms%29%29%2Cnext:\n",
      " The access token expired\n",
      "http status: 401, code:-1 - https://api.spotify.com/v1/users/neotrex-es/playlists/6zw1DT6Hfs12UKsKi1po74/tracks?limit=100&offset=0&fields=items%28track%28id%2C+name%2C+artists%28name%2C+id%29%2C+duration_ms%29%29%2Cnext:\n",
      " The access token expired\n",
      "http status: 401, code:-1 - https://api.spotify.com/v1/users/31k4mcjeljqiu4yg6pjp9940r/playlists/44O5mChLuTYfUkPeLfVJOy/tracks?limit=100&offset=0&fields=items%28track%28id%2C+name%2C+artists%28name%2C+id%29%2C+duration_ms%29%29%2Cnext:\n",
      " The access token expired\n",
      "http status: 401, code:-1 - https://api.spotify.com/v1/users/bre3bu4v9fdejcnsw9nhx5hll/playlists/0uOcpM33LnW0NsD3S8ANow/tracks?limit=100&offset=0&fields=items%28track%28id%2C+name%2C+artists%28name%2C+id%29%2C+duration_ms%29%29%2Cnext:\n",
      " The access token expired\n",
      "http status: 401, code:-1 - https://api.spotify.com/v1/users/pl2v1fi0ljq9wbg3wzcy4eja4/playlists/7uAqfhvV2ji4PsHviSwdA7/tracks?limit=100&offset=0&fields=items%28track%28id%2C+name%2C+artists%28name%2C+id%29%2C+duration_ms%29%29%2Cnext:\n",
      " The access token expired\n",
      "http status: 400, code:-1 - https://api.spotify.com/v1/users/meli?limit=100&offset=0&fields=items%28track%28id%2C+name%2C+artists%28name%2C+id%29%2C+duration_ms%29%29%2Cnext#*/playlists/14yf4BRurRDbONJ6iL6yi1/tracks:\n",
      " One or more requested fields are not available\n",
      "http status: 401, code:-1 - https://api.spotify.com/v1/users/0d08702d00iiwl5qrfwqefu8i/playlists/4qwF02h1wbYv68mKIiv5AQ/tracks?limit=100&offset=0&fields=items%28track%28id%2C+name%2C+artists%28name%2C+id%29%2C+duration_ms%29%29%2Cnext:\n",
      " The access token expired\n",
      "retrying ...1secs\n",
      "http status: 401, code:-1 - https://api.spotify.com/v1/users/12408180/playlists/2VEfymMmDFmJSfBFnrvfIh/tracks?limit=100&offset=0&fields=items%28track%28id%2C+name%2C+artists%28name%2C+id%29%2C+duration_ms%29%29%2Cnext:\n",
      " The access token expired\n",
      "http status: 401, code:-1 - https://api.spotify.com/v1/users/nkqjz10d3n8n5jz8zy0aql6x2/playlists/7ivLWdxuMN2mt5U1CGmEUT/tracks?limit=100&offset=0&fields=items%28track%28id%2C+name%2C+artists%28name%2C+id%29%2C+duration_ms%29%29%2Cnext:\n",
      " The access token expired\n",
      "http status: 401, code:-1 - https://api.spotify.com/v1/users/31cy2dn4raqbrvmzuopojcjcm6ly/playlists/5dAyq1CjLGtdGuNTNueXXb/tracks?limit=100&offset=0&fields=items%28track%28id%2C+name%2C+artists%28name%2C+id%29%2C+duration_ms%29%29%2Cnext:\n",
      " The access token expired\n",
      "http status: 401, code:-1 - https://api.spotify.com/v1/users/mateopps/playlists/1JYtxyDYh03z4yk2MSaSXA/tracks?limit=100&offset=0&fields=items%28track%28id%2C+name%2C+artists%28name%2C+id%29%2C+duration_ms%29%29%2Cnext:\n",
      " The access token expired\n",
      "http status: 400, code:-1 - https://api.spotify.com/v1/users/diedrei???kids/playlists/1jhIUJtGiuyZbE2B7gj3B7/tracks&limit=100&offset=0&fields=items%28track%28id%2C+name%2C+artists%28name%2C+id%29%2C+duration_ms%29%29%2Cnext:\n",
      " One or more requested fields are not available\n",
      "http status: 404, code:-1 - https://api.spotify.com/v1/users/?limit=100&offset=0&fields=items%28track%28id%2C+name%2C+artists%28name%2C+id%29%2C+duration_ms%29%29%2Cnext#originalmix/playlists/3ZL3B9QN8N5uSTc7xw0LP7/tracks:\n",
      " Service not found\n",
      "\n",
      "CPU times: user 14min 24s, sys: 10min 19s, total: 24min 43s\n",
      "Wall time: 8h 26min 7s\n"
     ]
    }
   ],
   "source": [
    "%%time\n",
    "\n",
    "if os.path.isfile(SONGS_DB_PATH):\n",
    "    os.remove(SONGS_DB_PATH)\n",
    "conn = sqlite3.connect(SONGS_DB_PATH)\n",
    "c = conn.cursor()\n",
    "c.execute('CREATE TABLE songs (id text primary key, name text, artist text)')\n",
    "c.execute('CREATE INDEX name_idx on songs(name)')\n",
    "\n",
    "failing_playlist_id = '3ZL3B9QN8N5uSTc7xw0LP7'\n",
    "skip = False\n",
    "\n",
    "tracks_seen = set()\n",
    "with open(PLAYLISTS_PATH, 'w') as fout_playlists:\n",
    "    with open(SONG_IDS_PATH, 'w') as fout_song_ids:\n",
    "        for playlist in tqdm(playlists.values()):\n",
    "            skip &= playlist['id'] != failing_playlist_id\n",
    "            if skip: continue\n",
    "            try:\n",
    "                track_ids = []\n",
    "                for track in track_yielder(session, playlist):\n",
    "                    track_id = track['id']\n",
    "                    if not track_id:\n",
    "                        continue\n",
    "                    if not track_id in tracks_seen:\n",
    "                        c.execute(\"INSERT INTO songs VALUES (?, ?, ?)\", \n",
    "                                  (track['id'], track['name'], track['artists'][0]['name']))\n",
    "                        tracks_seen.add(track_id)\n",
    "                    track_ids.append(track_id)\n",
    "                fout_playlists.write(json.dumps(playlist) + '\\n')\n",
    "                fout_song_ids.write(' '.join(track_ids) + '\\n')\n",
    "                conn.commit()\n",
    "            except Exception as e:\n",
    "                print(e)\n",
    "                #if 'expired' in e.msg or 'no token' in e.msg.lower():\n",
    "                if hasattr(e, 'http_status') and e.http_status == 401:\n",
    "                    spotify_token = get_spotify_token(USER_ID, CLIENT_ID, CLIENT_SECRET, URI)\n",
    "                    session = spotipy.Spotify(auth=spotify_token)\n",
    "                continue\n",
    "conn.commit()"
   ]
  },
  {
   "cell_type": "code",
   "execution_count": null,
   "metadata": {},
   "outputs": [],
   "source": []
  }
 ],
 "metadata": {
  "kernelspec": {
   "display_name": "Python 3",
   "language": "python",
   "name": "python3"
  },
  "language_info": {
   "codemirror_mode": {
    "name": "ipython",
    "version": 3
   },
   "file_extension": ".py",
   "mimetype": "text/x-python",
   "name": "python",
   "nbconvert_exporter": "python",
   "pygments_lexer": "ipython3",
   "version": "3.6.9"
  }
 },
 "nbformat": 4,
 "nbformat_minor": 4
}
