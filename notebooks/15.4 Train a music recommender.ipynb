{
 "cells": [
  {
   "cell_type": "markdown",
   "metadata": {},
   "source": [
    "# Train a music recommender"
   ]
  },
  {
   "cell_type": "code",
   "execution_count": 2,
   "metadata": {},
   "outputs": [],
   "source": [
    "import gensim\n",
    "import sqlite3\n",
    "from operator import itemgetter"
   ]
  },
  {
   "cell_type": "code",
   "execution_count": 2,
   "metadata": {},
   "outputs": [],
   "source": [
    "SONGS_DB_PATH = 'data/songs.db'\n",
    "PLAYLISTS_PATH = 'data/playlists.ndjson'\n",
    "SONG_IDS_PATH = 'data/songs_ids.txt'\n",
    "MODEL_PATH = 'zoo/15/songs.word2vec'"
   ]
  },
  {
   "cell_type": "markdown",
   "metadata": {},
   "source": [
    "## Training the model"
   ]
  },
  {
   "cell_type": "code",
   "execution_count": 3,
   "metadata": {},
   "outputs": [],
   "source": [
    "class WordSplitter(object):\n",
    "    \"\"\"Creates an iterator that yields words per line in a file.\"\"\"\n",
    "    \n",
    "    def __init__(self, filename, max_count=None):\n",
    "        self.filename = filename\n",
    "        self.max_count = max_count\n",
    " \n",
    "    def __iter__(self):\n",
    "        with open(self.filename) as fin:\n",
    "            count = 0\n",
    "            for line in fin:\n",
    "                if self.max_count is not None and count > self.max_count:\n",
    "                    return\n",
    "                else:\n",
    "                    yield line.split()\n",
    "                    count += 1"
   ]
  },
  {
   "cell_type": "code",
   "execution_count": 4,
   "metadata": {},
   "outputs": [],
   "source": [
    "model_input = WordSplitter(SONG_IDS_PATH)"
   ]
  },
  {
   "cell_type": "code",
   "execution_count": 5,
   "metadata": {},
   "outputs": [
    {
     "name": "stdout",
     "output_type": "stream",
     "text": [
      "CPU times: user 1min 15s, sys: 2.3 s, total: 1min 18s\n",
      "Wall time: 36.5 s\n"
     ]
    }
   ],
   "source": [
    "%%time\n",
    "\n",
    "model = gensim.models.Word2Vec(model_input, min_count=4)"
   ]
  },
  {
   "cell_type": "code",
   "execution_count": 6,
   "metadata": {},
   "outputs": [],
   "source": [
    "model.save(open(MODEL_PATH, 'wb'))"
   ]
  },
  {
   "cell_type": "markdown",
   "metadata": {},
   "source": [
    "## Using the model to retrieve and recommend songs"
   ]
  },
  {
   "cell_type": "code",
   "execution_count": 7,
   "metadata": {},
   "outputs": [],
   "source": [
    "conn = sqlite3.connect(SONGS_DB_PATH)\n",
    "cursor = conn.cursor()"
   ]
  },
  {
   "cell_type": "markdown",
   "metadata": {},
   "source": [
    "Retrieve songs by popularity (defined by the frequency of the song in vocabulary):"
   ]
  },
  {
   "cell_type": "code",
   "execution_count": 8,
   "metadata": {},
   "outputs": [],
   "source": [
    "def find_song(song_name, cursor, limit=10):\n",
    "    cursor.execute(\n",
    "        \"SELECT * FROM songs WHERE UPPER(name) LIKE ?\",\n",
    "        (f'%{song_name}%',)\n",
    "    )\n",
    "    # The element song_info[0] contains song_id\n",
    "    results = iter(\n",
    "        song_info + (model.wv.vocab[song_info[0]].count,) \n",
    "        for song_info in cursor.fetchall()\n",
    "        if song_info[0] in model.wv.vocab\n",
    "    )\n",
    "    # Sorts song_info results by frequency in model vocabulary:\n",
    "    results = sorted(results, key=itemgetter(-1), reverse=True)\n",
    "    return results[:limit]"
   ]
  },
  {
   "cell_type": "code",
   "execution_count": 138,
   "metadata": {},
   "outputs": [
    {
     "name": "stdout",
     "output_type": "stream",
     "text": [
      "2Cy7QY8HPLk925AyNAt6OG\n",
      "('Black or White - Single Version', 'Michael Jackson', 96) \n",
      "\n",
      "7EsjkelQuoUlJXEw7SeVV4\n",
      "('Black or White', 'Michael Jackson', 35) \n",
      "\n",
      "6wdviVWctiZnY6tVn6bh6A\n",
      "('Black or White - Single Version', 'Michael Jackson', 19) \n",
      "\n",
      "2PdFSWL1Zpg0lRnujLnNJJ\n",
      "('Black or White - Remastered Version', 'Michael Jackson', 18) \n",
      "\n",
      "62ECYqWLwhndUSjfVdpSPc\n",
      "('Black or White', 'Michael Jackson', 9) \n",
      "\n",
      "3UHYHc72E3SXoMHI0gux7x\n",
      "('Black or White (Glee Cast Version)', 'Glee Cast', 5) \n",
      "\n",
      "4NUSJn6eHJOOr4MzhQLzZT\n",
      "('Black Or White', 'Honeywagon', 4) \n",
      "\n",
      "5VnOk8tmQBoU1vEiiNvSWx\n",
      "('Black Or White (Bossa version)', 'Joana Duah', 4) \n",
      "\n"
     ]
    }
   ],
   "source": [
    "results = find_song('black or white', cursor)\n",
    "results = {\n",
    "    song_id: (song_name, artist, score)\n",
    "    for song_id, song_name, artist, score in results\n",
    "}\n",
    "for r in results:\n",
    "    print(r)\n",
    "    print(results[r], '\\n')"
   ]
  },
  {
   "cell_type": "code",
   "execution_count": 139,
   "metadata": {},
   "outputs": [
    {
     "data": {
      "text/plain": [
       "('2Cy7QY8HPLk925AyNAt6OG',\n",
       " ('Black or White - Single Version', 'Michael Jackson', 96))"
      ]
     },
     "execution_count": 139,
     "metadata": {},
     "output_type": "execute_result"
    }
   ],
   "source": [
    "song_id = next(iter(results))\n",
    "song_info = results[song_id]\n",
    "song_id, song_info"
   ]
  },
  {
   "cell_type": "code",
   "execution_count": 132,
   "metadata": {},
   "outputs": [],
   "source": [
    "def suggest_songs(song_id, cursor):\n",
    "    similar = dict(model.wv.most_similar(song_id))\n",
    "    song_ids = list(similar.keys())\n",
    "    query = (\n",
    "        'SELECT * FROM songs WHERE id in ({})'\n",
    "        .format(('?,'*len(song_ids))[:-1])\n",
    "    )\n",
    "    cursor.execute(query, song_ids)\n",
    "    results = iter(\n",
    "        song_info + (similar[song_info[0]],)\n",
    "        for song_info in cursor.fetchall()\n",
    "    )\n",
    "    # Sorts results by similarity score\n",
    "    results = sorted(results, key=itemgetter(-1), reverse=True)\n",
    "    return results"
   ]
  },
  {
   "cell_type": "code",
   "execution_count": 136,
   "metadata": {},
   "outputs": [
    {
     "name": "stdout",
     "output_type": "stream",
     "text": [
      "2Cy7QY8HPLk925AyNAt6OG Black or White - Single Version Michael Jackson 96\n",
      "0gmbgwZ8iqyMPmXefof8Yf How You Remind Me Nickelback 0.9992876052856445\n",
      "4eHbdreAnSOrDDsFfc4Fpm I Will Always Love You Whitney Houston 0.9992775917053223\n",
      "2tUBqZG2AbRi7Q0BIrVrEj I Wanna Dance with Somebody (Who Loves Me) Whitney Houston 0.9990498423576355\n",
      "3cfOd4CMv2snFaKAnMdnvK All Star Smash Mouth 0.9990429878234863\n",
      "0COqiPhxzoWICwFCS4eZcp Bring Me To Life Evanescence 0.9990196228027344\n",
      "5QpaGzWp0hwB5faV8dkbAz Wherever You Will Go The Calling 0.9990159869194031\n",
      "37Q5anxoGWYdRsyeXkkNoI Heaven Is a Place on Earth Belinda Carlisle 0.9989984035491943\n",
      "1Je1IMUlBXcx1Fz0WE7oPT Wannabe Spice Girls 0.998955249786377\n",
      "6Qyc6fS4DsZjB2mRW9DsQs Iris The Goo Goo Dolls 0.9988621473312378\n",
      "37qI0mchgzUSeUhPiwUWPY Wherever You Will Go The Calling 0.9988144636154175\n"
     ]
    }
   ],
   "source": [
    "print(song_id, *song_info)\n",
    "for t in suggest_songs(song_id, cursor):\n",
    "    print(*t)"
   ]
  },
  {
   "cell_type": "code",
   "execution_count": 141,
   "metadata": {},
   "outputs": [
    {
     "data": {
      "text/plain": [
       "[('6ZFbXIJkuI1dVNWvzJzown', 'Time', 'Hans Zimmer', 0.9974794983863831),\n",
       " ('6VuUMo1TusnqBxLTnr3hOI', 'Brillas', 'León Larregui', 0.9974169731140137),\n",
       " ('1ykbtFnlIjmIFnZ8j6wg6i',\n",
       "  'The Breaking of the Fellowship (feat. \"In Dreams\")',\n",
       "  'Howard Shore',\n",
       "  0.9974009990692139),\n",
       " ('4Gf68vwxa69hCiXmJ1jvgj', 'Azúcar Amargo', 'Fey', 0.9973743557929993),\n",
       " ('18z7tK7u9DcDw85LYRR5Fe',\n",
       "  'Cornfield Chase',\n",
       "  'Hans Zimmer',\n",
       "  0.9973671436309814),\n",
       " ('1U3tv41tFRgOfbytpuYQrR',\n",
       "  'Ferida Curada',\n",
       "  'Zé Neto & Cristiano',\n",
       "  0.9973652362823486),\n",
       " ('4p7XH4NhQ25iGYrrbg93gt', 'Suave', 'Luis Miguel', 0.9973102807998657),\n",
       " ('2FxXQtnQoryi52LA0V9pJV', 'On My Own', 'Drako', 0.9973098039627075),\n",
       " ('5nzEilkVhvnCD0xpW3raTy', 'No Dejes Que...', 'Caifanes', 0.9973037242889404),\n",
       " ('4fFgpzgSkmn3wajioLBPOr',\n",
       "  'Mis Ojos Lloran Por Ti',\n",
       "  'Big Boy',\n",
       "  0.9973029494285583)]"
      ]
     },
     "execution_count": 141,
     "metadata": {},
     "output_type": "execute_result"
    }
   ],
   "source": [
    "suggest_songs('0U0ldCRmgCqhVvD6ksG63j', cursor)"
   ]
  }
 ],
 "metadata": {
  "kernelspec": {
   "display_name": "Python 3",
   "language": "python",
   "name": "python3"
  },
  "language_info": {
   "codemirror_mode": {
    "name": "ipython",
    "version": 3
   },
   "file_extension": ".py",
   "mimetype": "text/x-python",
   "name": "python",
   "nbconvert_exporter": "python",
   "pygments_lexer": "ipython3",
   "version": "3.6.9"
  }
 },
 "nbformat": 4,
 "nbformat_minor": 4
}
