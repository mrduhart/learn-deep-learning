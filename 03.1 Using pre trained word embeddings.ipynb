{
 "cells": [
  {
   "cell_type": "markdown",
   "metadata": {},
   "source": [
    "## Text Similarity using Word Embeddings\n",
    "\n",
    "In this notebook we're going to play around with pre build word embeddings and do some fun calculations:"
   ]
  },
  {
   "cell_type": "code",
   "execution_count": 1,
   "metadata": {
    "tags": []
   },
   "outputs": [
    {
     "name": "stderr",
     "output_type": "stream",
     "text": [
      "Using TensorFlow backend.\n"
     ]
    }
   ],
   "source": [
    "%matplotlib inline\n",
    "\n",
    "import os\n",
    "from keras.utils import get_file\n",
    "import gensim\n",
    "import subprocess\n",
    "import numpy as np\n",
    "import matplotlib.pyplot as plt\n",
    "from IPython.core.pylabtools import figsize\n",
    "figsize(10, 10)\n",
    "\n",
    "from sklearn.manifold import TSNE\n",
    "import json\n",
    "from collections import Counter\n",
    "from itertools import chain\n",
    "\n",
    "from pathlib import Path"
   ]
  },
  {
   "cell_type": "markdown",
   "metadata": {},
   "source": [
    "We'll start by downloading a pretrained model from Google News. We're using `zcat` to unzip the file, so you need to make sure you have that installed or replace it by something else."
   ]
  },
  {
   "cell_type": "code",
   "execution_count": 2,
   "metadata": {},
   "outputs": [],
   "source": [
    "HOME_PATH = Path.home()\n",
    "MODELS_PATH = HOME_PATH / 'models'\n",
    "DATA_PATH = HOME_PATH / 'data'\n",
    "\n",
    "assert MODELS_PATH.is_dir()\n",
    "assert DATA_PATH.is_dir()"
   ]
  },
  {
   "cell_type": "code",
   "execution_count": 3,
   "metadata": {
    "tags": []
   },
   "outputs": [
    {
     "name": "stdout",
     "output_type": "stream",
     "text": [
      "Model file is located at /home/mrduhart/models/GoogleNews-vectors-negative300.bin\n"
     ]
    }
   ],
   "source": [
    "MODEL = 'GoogleNews-vectors-negative300.bin'\n",
    "zipped = MODEL + '.gz'\n",
    "URL = 'https://s3.amazonaws.com/dl4j-distribution/' + zipped\n",
    "path = get_file(MODELS_PATH / zipped, URL)\n",
    "unzipped = MODELS_PATH / MODEL\n",
    "\n",
    "if not unzipped.is_file():\n",
    "    with open(unzipped, 'wb') as fout:\n",
    "        zcat = subprocess.Popen(['zcat'], stdin=open(path), stdout=fout)\n",
    "        zcat.wait()\n",
    "    \n",
    "assert unzipped.is_file()\n",
    "print('Model file is located at', unzipped)"
   ]
  },
  {
   "cell_type": "code",
   "execution_count": 10,
   "metadata": {},
   "outputs": [],
   "source": [
    "model = (\n",
    "    gensim\n",
    "    .models\n",
    "    .KeyedVectors\n",
    "    .load_word2vec_format(unzipped, binary=True, limit=int(1e5))\n",
    ")"
   ]
  },
  {
   "cell_type": "markdown",
   "metadata": {},
   "source": [
    "Let's take this model for a spin by looking at what things are most similar to espresso. As expected, coffee like items show up:"
   ]
  },
  {
   "cell_type": "code",
   "execution_count": 11,
   "metadata": {},
   "outputs": [
    {
     "data": {
      "text/plain": [
       "[('cappuccino', 0.6888186931610107),\n",
       " ('coffee', 0.6616826057434082),\n",
       " ('latte', 0.6536753177642822),\n",
       " ('coffees', 0.6038862466812134),\n",
       " ('Espresso', 0.597100555896759),\n",
       " ('Starbucks_coffee', 0.5946396589279175),\n",
       " ('lattes', 0.5867725610733032),\n",
       " ('barista', 0.582223653793335),\n",
       " ('smoothie', 0.580528736114502),\n",
       " ('java', 0.5674350261688232)]"
      ]
     },
     "execution_count": 11,
     "metadata": {},
     "output_type": "execute_result"
    }
   ],
   "source": [
    "model.most_similar(positive=['espresso'])"
   ]
  },
  {
   "cell_type": "markdown",
   "metadata": {},
   "source": [
    "Now for the famous equation, what is like woman if king is like man? We create a quick method to these calculations here:"
   ]
  },
  {
   "cell_type": "code",
   "execution_count": 39,
   "metadata": {},
   "outputs": [
    {
     "data": {
      "text/plain": [
       "['queen', 'monarch', 'princess', 'crown_prince', 'prince']"
      ]
     },
     "execution_count": 39,
     "metadata": {},
     "output_type": "execute_result"
    }
   ],
   "source": [
    "def A_is_to_B_as_C_is_to(a, b, c, topn=1):\n",
    "    a, b, c = map(lambda x: x \n",
    "                  if type(x) == list \n",
    "                  else [x], (a, b, c)\n",
    "                 ) # Converts inputs into lists\n",
    "    res = model.most_similar(positive=b+c, negative=a, topn=topn)\n",
    "    d = None\n",
    "    if len(res):\n",
    "        if topn == 1:\n",
    "            d = res[0][0]\n",
    "        elif topn is not None:\n",
    "            d = [x[0] for x in res]\n",
    "    return d\n",
    "\n",
    "A_is_to_B_as_C_is_to('man', 'woman', 'king', 5)"
   ]
  },
  {
   "cell_type": "markdown",
   "metadata": {},
   "source": [
    "We can use this equation to acurately predict the capitals of countries by looking at what has the same relationship as Berlin has to Germany for selected countries:"
   ]
  },
  {
   "cell_type": "code",
   "execution_count": 37,
   "metadata": {},
   "outputs": [
    {
     "name": "stdout",
     "output_type": "stream",
     "text": [
      "Rome is the capital of Italy\n",
      "Paris is the capital of France\n",
      "Delhi is the capital of India\n",
      "Beijing is the capital of China\n",
      "Santa_Fe is the capital of Mexico\n",
      "Moscow is the capital of Russia\n",
      "Los_Angeles is the capital of San_Francisco\n"
     ]
    }
   ],
   "source": [
    "countries = [\n",
    "    'Italy',\n",
    "    'France',\n",
    "    'India',\n",
    "    'China',\n",
    "    'Mexico',\n",
    "    'Russia',\n",
    "    'San_Francisco',\n",
    "]\n",
    "\n",
    "for country in countries:\n",
    "    print('%s is the capital of %s' % \n",
    "          (A_is_to_B_as_C_is_to('Germany', 'Berlin', country), country))"
   ]
  },
  {
   "cell_type": "markdown",
   "metadata": {},
   "source": [
    "Or we can do the same for important products for given companies. Here we seed the products equation with two products, the iPhone for Apple and Starbucks_coffee for Starbucks. Note that numbers are replaced by # in the embedding model:"
   ]
  },
  {
   "cell_type": "code",
   "execution_count": 41,
   "metadata": {},
   "outputs": [
    {
     "name": "stdout",
     "output_type": "stream",
     "text": [
      "Google -> app, Gmail, Android, Google_Maps, smartphone\n",
      "IBM -> DB2, mainframe, software, WebSphere, J2EE\n",
      "Boeing -> Dreamliner, airframe, aircraft, Airbus, airplane\n",
      "Microsoft -> Windows_Mobile, Windows, software, Pocket_PC, MSN_Messenger\n",
      "Samsung -> handset, Nokia_N##, Smartphone, Samsung_Galaxy_S, handsets\n"
     ]
    }
   ],
   "source": [
    "for company in 'Google', 'IBM', 'Boeing', 'Microsoft', 'Samsung':\n",
    "    products = A_is_to_B_as_C_is_to(\n",
    "        ['Starbucks', 'Apple'], \n",
    "        ['Starbucks_coffee', 'iPhone'], \n",
    "        company, topn=5)\n",
    "    print('%s -> %s' % \n",
    "          (company, ', '.join(products)))"
   ]
  },
  {
   "cell_type": "markdown",
   "metadata": {},
   "source": [
    "Let's do some clustering by picking three categories of items, drinks, countries and sports:"
   ]
  },
  {
   "cell_type": "code",
   "execution_count": 42,
   "metadata": {},
   "outputs": [
    {
     "data": {
      "text/plain": [
       "18"
      ]
     },
     "execution_count": 42,
     "metadata": {},
     "output_type": "execute_result"
    }
   ],
   "source": [
    "beverages = ['espresso', 'beer', 'vodka', 'wine', 'cola', 'tea']\n",
    "countries = ['Italy', 'Germany', 'Russia', 'France', 'USA', 'India']\n",
    "sports = ['soccer', 'handball', 'hockey', 'cycling', 'basketball', 'cricket']\n",
    "\n",
    "items = beverages + countries + sports\n",
    "len(items)"
   ]
  },
  {
   "cell_type": "markdown",
   "metadata": {},
   "source": [
    "And looking up their vectors:"
   ]
  },
  {
   "cell_type": "code",
   "execution_count": 43,
   "metadata": {},
   "outputs": [
    {
     "data": {
      "text/plain": [
       "18"
      ]
     },
     "execution_count": 43,
     "metadata": {},
     "output_type": "execute_result"
    }
   ],
   "source": [
    "item_vectors = [(item, model[item]) for item in items if item in model]\n",
    "len(item_vectors)"
   ]
  },
  {
   "cell_type": "markdown",
   "metadata": {},
   "source": [
    "Now use TSNE for clustering:"
   ]
  },
  {
   "cell_type": "code",
   "execution_count": 59,
   "metadata": {},
   "outputs": [
    {
     "name": "stdout",
     "output_type": "stream",
     "text": [
      "[t-SNE] Computing 17 nearest neighbors...\n",
      "[t-SNE] Indexed 18 samples in 0.000s...\n",
      "[t-SNE] Computed neighbors for 18 samples in 0.001s...\n",
      "[t-SNE] Computed conditional probabilities for sample 18 / 18\n",
      "[t-SNE] Mean sigma: 0.581543\n",
      "[t-SNE] Computed conditional probabilities in 0.001s\n",
      "[t-SNE] Iteration 50: error = 51.6317825, gradient norm = 0.1371764 (50 iterations in 0.006s)\n",
      "[t-SNE] Iteration 100: error = 55.9568443, gradient norm = 0.1651944 (50 iterations in 0.011s)\n",
      "[t-SNE] Iteration 150: error = 54.5488548, gradient norm = 0.0560298 (50 iterations in 0.007s)\n",
      "[t-SNE] Iteration 200: error = 65.8207474, gradient norm = 0.0596997 (50 iterations in 0.009s)\n",
      "[t-SNE] Iteration 250: error = 66.1554260, gradient norm = 0.1271037 (50 iterations in 0.009s)\n",
      "[t-SNE] KL divergence after 250 iterations with early exaggeration: 66.155426\n",
      "[t-SNE] Iteration 300: error = 0.8218341, gradient norm = 0.0013925 (50 iterations in 0.005s)\n",
      "[t-SNE] Iteration 350: error = 0.4469984, gradient norm = 0.0005113 (50 iterations in 0.005s)\n",
      "[t-SNE] Iteration 400: error = 0.3175747, gradient norm = 0.0003892 (50 iterations in 0.006s)\n",
      "[t-SNE] Iteration 450: error = 0.2329099, gradient norm = 0.0001767 (50 iterations in 0.005s)\n",
      "[t-SNE] Iteration 500: error = 0.2082057, gradient norm = 0.0001571 (50 iterations in 0.005s)\n",
      "[t-SNE] Iteration 550: error = 0.1875666, gradient norm = 0.0001514 (50 iterations in 0.005s)\n",
      "[t-SNE] Iteration 600: error = 0.1655394, gradient norm = 0.0001075 (50 iterations in 0.005s)\n",
      "[t-SNE] Iteration 650: error = 0.1590699, gradient norm = 0.0000662 (50 iterations in 0.005s)\n",
      "[t-SNE] Iteration 700: error = 0.1551560, gradient norm = 0.0000405 (50 iterations in 0.005s)\n",
      "[t-SNE] Iteration 750: error = 0.1526400, gradient norm = 0.0000313 (50 iterations in 0.004s)\n",
      "[t-SNE] Iteration 800: error = 0.1499989, gradient norm = 0.0000471 (50 iterations in 0.004s)\n",
      "[t-SNE] Iteration 850: error = 0.1486862, gradient norm = 0.0000373 (50 iterations in 0.005s)\n",
      "[t-SNE] Iteration 900: error = 0.1478389, gradient norm = 0.0000314 (50 iterations in 0.004s)\n",
      "[t-SNE] Iteration 950: error = 0.1471711, gradient norm = 0.0000316 (50 iterations in 0.004s)\n",
      "[t-SNE] Iteration 1000: error = 0.1457166, gradient norm = 0.0000221 (50 iterations in 0.004s)\n",
      "[t-SNE] KL divergence after 1000 iterations: 0.145717\n"
     ]
    }
   ],
   "source": [
    "vectors = np.asarray([x[1] for x in item_vectors])\n",
    "lengths = np.linalg.norm(vectors, axis=1)\n",
    "norm_vectors = (vectors.T / lengths).T # Transpose aligns vectors for broadcasting\n",
    "\n",
    "clf = TSNE(n_components=2, perplexity=10, verbose=2, random_state=0)\n",
    "tsne = clf.fit_transform(norm_vectors)"
   ]
  },
  {
   "cell_type": "markdown",
   "metadata": {},
   "source": [
    "And matplotlib to show the results:"
   ]
  },
  {
   "cell_type": "code",
   "execution_count": 60,
   "metadata": {},
   "outputs": [
    {
     "data": {
      "image/png": "[encoded data removed]",
      "text/plain": [
       "<Figure size 432x288 with 1 Axes>"
      ]
     },
     "metadata": {
      "needs_background": "light"
     },
     "output_type": "display_data"
    }
   ],
   "source": [
    "x=tsne[:,0]\n",
    "y=tsne[:,1]\n",
    "\n",
    "fig, ax = plt.subplots()\n",
    "ax.scatter(x, y)\n",
    "\n",
    "for item, x1, y1 in zip(item_vectors, x, y):\n",
    "    ax.annotate(item[0], (x1, y1), size=14)\n",
    "\n",
    "plt.show()"
   ]
  },
  {
   "cell_type": "markdown",
   "metadata": {},
   "source": [
    "As you can see, the countries, sports and drinks all form their own little clusters, with arguably cricket and India attracting each other and maybe less clear, wine and France and Italy and espresso."
   ]
  }
 ],
 "metadata": {
  "kernelspec": {
   "display_name": "Python 3",
   "language": "python",
   "name": "python3"
  },
  "language_info": {
   "codemirror_mode": {
    "name": "ipython",
    "version": 3
   },
   "file_extension": ".py",
   "mimetype": "text/x-python",
   "name": "python",
   "nbconvert_exporter": "python",
   "pygments_lexer": "ipython3",
   "version": "3.6.9"
  }
 },
 "nbformat": 4,
 "nbformat_minor": 4
}
